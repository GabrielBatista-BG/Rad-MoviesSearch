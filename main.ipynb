{
 "cells": [
  {
   "cell_type": "markdown",
   "metadata": {},
   "source": [
    "## Libs"
   ]
  },
  {
   "cell_type": "code",
   "execution_count": 1,
   "metadata": {},
   "outputs": [],
   "source": [
    "import sqlite3\n",
    "import pandas as pd"
   ]
  },
  {
   "cell_type": "markdown",
   "metadata": {},
   "source": [
    "## Modulo criado com um dict de querys SQlite"
   ]
  },
  {
   "cell_type": "code",
   "execution_count": 2,
   "metadata": {},
   "outputs": [],
   "source": [
    "from querys import querys_sql"
   ]
  },
  {
   "cell_type": "markdown",
   "metadata": {},
   "source": [
    "# Conexão com o banco de dados"
   ]
  },
  {
   "cell_type": "code",
   "execution_count": 3,
   "metadata": {},
   "outputs": [],
   "source": [
    "conn = sqlite3.connect('movies.db')\n",
    "cursor = conn.cursor()"
   ]
  },
  {
   "cell_type": "markdown",
   "metadata": {},
   "source": [
    "# criação dos DataFrames com a execução a query SQlite"
   ]
  },
  {
   "cell_type": "code",
   "execution_count": 4,
   "metadata": {},
   "outputs": [],
   "source": [
    "df_top_rated = pd.read_sql_query(querys_sql.get(\"top_rated_query\"), conn)\n",
    "df_genre_popularity = pd.read_sql_query(querys_sql.get(\"genre_popularity_query\"), conn)\n",
    "df_country_rating = pd.read_sql_query(querys_sql.get(\"country_rating_query\"), conn)\n",
    "\n",
    "df_movie_characters_with_actors = pd.read_sql_query(querys_sql.get(\"movie_characters_with_actors\"), conn)\n",
    "df_movie_production_companies = pd.read_sql_query(querys_sql.get(\"movie_production_companies\"), conn)\n",
    "df_most_expensive_movies = pd.read_sql_query(querys_sql.get(\"most_expensive_movies\"), conn)\n",
    "df_available_languages_by_movie = pd.read_sql_query(querys_sql.get(\"available_languages_by_movie\"), conn)\n"
   ]
  },
  {
   "cell_type": "markdown",
   "metadata": {},
   "source": [
    "### Algumas checagens de dados"
   ]
  },
  {
   "cell_type": "code",
   "execution_count": 5,
   "metadata": {},
   "outputs": [
    {
     "name": "stdout",
     "output_type": "stream",
     "text": [
      "  country_name  avg_rating  movie_count\n",
      "0      Austria    7.083333            6\n",
      "1    Argentina    6.988889            9\n",
      "2       Sweden    6.910526           19\n",
      "3  New Zealand    6.732143           28\n",
      "4      Iceland    6.716667            6\n"
     ]
    },
    {
     "data": {
      "text/plain": [
       "36"
      ]
     },
     "execution_count": 5,
     "metadata": {},
     "output_type": "execute_result"
    }
   ],
   "source": [
    "print(df_country_rating.head())\n",
    "len(df_country_rating)"
   ]
  },
  {
   "cell_type": "code",
   "execution_count": 6,
   "metadata": {},
   "outputs": [
    {
     "name": "stdout",
     "output_type": "stream",
     "text": [
      "                   title  vote_average  popularity release_date\n",
      "0         Little Big Top          10.0    0.092100   2006-01-01\n",
      "1  Dancer, Texas Pop. 81          10.0    0.376662   1998-05-01\n",
      "2       Stiff Upper Lips          10.0    0.356495   1998-06-12\n",
      "3  Me You and Five Bucks          10.0    0.094105   2015-07-07\n",
      "4              Sardaarji           9.5    0.296981   2015-06-26\n"
     ]
    },
    {
     "data": {
      "text/plain": [
       "4803"
      ]
     },
     "execution_count": 6,
     "metadata": {},
     "output_type": "execute_result"
    }
   ],
   "source": [
    "print(df_top_rated.head())\n",
    "len(df_top_rated)"
   ]
  },
  {
   "cell_type": "code",
   "execution_count": 7,
   "metadata": {},
   "outputs": [
    {
     "name": "stdout",
     "output_type": "stream",
     "text": [
      "  genre_name                                              title  popularity  \\\n",
      "0     Action                                           Deadpool  514.569956   \n",
      "1     Action                            Guardians of the Galaxy  481.098624   \n",
      "2     Action                                 Mad Max: Fury Road  434.278564   \n",
      "3     Action                                     Jurassic World  418.708552   \n",
      "4     Action  Pirates of the Caribbean: The Curse of the Bla...  271.972889   \n",
      "\n",
      "   vote_average  \n",
      "0           7.4  \n",
      "1           7.9  \n",
      "2           7.2  \n",
      "3           6.5  \n",
      "4           7.5  \n"
     ]
    },
    {
     "data": {
      "text/plain": [
       "12160"
      ]
     },
     "execution_count": 7,
     "metadata": {},
     "output_type": "execute_result"
    }
   ],
   "source": [
    "print(df_genre_popularity.head())\n",
    "len(df_genre_popularity)"
   ]
  },
  {
   "cell_type": "code",
   "execution_count": 8,
   "metadata": {},
   "outputs": [
    {
     "data": {
      "text/html": [
       "<div>\n",
       "<style scoped>\n",
       "    .dataframe tbody tr th:only-of-type {\n",
       "        vertical-align: middle;\n",
       "    }\n",
       "\n",
       "    .dataframe tbody tr th {\n",
       "        vertical-align: top;\n",
       "    }\n",
       "\n",
       "    .dataframe thead th {\n",
       "        text-align: right;\n",
       "    }\n",
       "</style>\n",
       "<table border=\"1\" class=\"dataframe\">\n",
       "  <thead>\n",
       "    <tr style=\"text-align: right;\">\n",
       "      <th></th>\n",
       "      <th>movie_title</th>\n",
       "      <th>character_name</th>\n",
       "      <th>actor_name</th>\n",
       "    </tr>\n",
       "  </thead>\n",
       "  <tbody>\n",
       "    <tr>\n",
       "      <th>0</th>\n",
       "      <td>Pirates of the Caribbean: At World's End</td>\n",
       "      <td>Captain Jack Sparrow</td>\n",
       "      <td>Johnny Depp</td>\n",
       "    </tr>\n",
       "    <tr>\n",
       "      <th>1</th>\n",
       "      <td>Pirates of the Caribbean: At World's End</td>\n",
       "      <td>Will Turner</td>\n",
       "      <td>Orlando Bloom</td>\n",
       "    </tr>\n",
       "    <tr>\n",
       "      <th>2</th>\n",
       "      <td>Pirates of the Caribbean: At World's End</td>\n",
       "      <td>Elizabeth Swann</td>\n",
       "      <td>Keira Knightley</td>\n",
       "    </tr>\n",
       "    <tr>\n",
       "      <th>3</th>\n",
       "      <td>Pirates of the Caribbean: At World's End</td>\n",
       "      <td>William Bootstrap Bill Turner</td>\n",
       "      <td>Stellan Skarsgu00e5rd</td>\n",
       "    </tr>\n",
       "    <tr>\n",
       "      <th>4</th>\n",
       "      <td>Pirates of the Caribbean: At World's End</td>\n",
       "      <td>Captain Sao Feng</td>\n",
       "      <td>Chow Yun-fat</td>\n",
       "    </tr>\n",
       "  </tbody>\n",
       "</table>\n",
       "</div>"
      ],
      "text/plain": [
       "                                movie_title                 character_name  \\\n",
       "0  Pirates of the Caribbean: At World's End           Captain Jack Sparrow   \n",
       "1  Pirates of the Caribbean: At World's End                    Will Turner   \n",
       "2  Pirates of the Caribbean: At World's End                Elizabeth Swann   \n",
       "3  Pirates of the Caribbean: At World's End  William Bootstrap Bill Turner   \n",
       "4  Pirates of the Caribbean: At World's End               Captain Sao Feng   \n",
       "\n",
       "              actor_name  \n",
       "0            Johnny Depp  \n",
       "1          Orlando Bloom  \n",
       "2        Keira Knightley  \n",
       "3  Stellan Skarsgu00e5rd  \n",
       "4           Chow Yun-fat  "
      ]
     },
     "execution_count": 8,
     "metadata": {},
     "output_type": "execute_result"
    }
   ],
   "source": [
    "df_movie_characters_with_actors.head()"
   ]
  },
  {
   "cell_type": "code",
   "execution_count": 9,
   "metadata": {},
   "outputs": [
    {
     "data": {
      "text/html": [
       "<div>\n",
       "<style scoped>\n",
       "    .dataframe tbody tr th:only-of-type {\n",
       "        vertical-align: middle;\n",
       "    }\n",
       "\n",
       "    .dataframe tbody tr th {\n",
       "        vertical-align: top;\n",
       "    }\n",
       "\n",
       "    .dataframe thead th {\n",
       "        text-align: right;\n",
       "    }\n",
       "</style>\n",
       "<table border=\"1\" class=\"dataframe\">\n",
       "  <thead>\n",
       "    <tr style=\"text-align: right;\">\n",
       "      <th></th>\n",
       "      <th>movie_title</th>\n",
       "      <th>company_name</th>\n",
       "    </tr>\n",
       "  </thead>\n",
       "  <tbody>\n",
       "    <tr>\n",
       "      <th>0</th>\n",
       "      <td>Four Rooms</td>\n",
       "      <td>Miramax Films</td>\n",
       "    </tr>\n",
       "    <tr>\n",
       "      <th>1</th>\n",
       "      <td>Four Rooms</td>\n",
       "      <td>A Band Apart</td>\n",
       "    </tr>\n",
       "    <tr>\n",
       "      <th>2</th>\n",
       "      <td>Star Wars</td>\n",
       "      <td>Lucasfilm</td>\n",
       "    </tr>\n",
       "    <tr>\n",
       "      <th>3</th>\n",
       "      <td>Star Wars</td>\n",
       "      <td>Twentieth Century Fox Film Corporation</td>\n",
       "    </tr>\n",
       "    <tr>\n",
       "      <th>4</th>\n",
       "      <td>Finding Nemo</td>\n",
       "      <td>Pixar Animation Studios</td>\n",
       "    </tr>\n",
       "  </tbody>\n",
       "</table>\n",
       "</div>"
      ],
      "text/plain": [
       "    movie_title                            company_name\n",
       "0    Four Rooms                           Miramax Films\n",
       "1    Four Rooms                            A Band Apart\n",
       "2     Star Wars                               Lucasfilm\n",
       "3     Star Wars  Twentieth Century Fox Film Corporation\n",
       "4  Finding Nemo                 Pixar Animation Studios"
      ]
     },
     "execution_count": 9,
     "metadata": {},
     "output_type": "execute_result"
    }
   ],
   "source": [
    "df_movie_production_companies.head()\n"
   ]
  },
  {
   "cell_type": "code",
   "execution_count": 10,
   "metadata": {},
   "outputs": [
    {
     "data": {
      "text/html": [
       "<div>\n",
       "<style scoped>\n",
       "    .dataframe tbody tr th:only-of-type {\n",
       "        vertical-align: middle;\n",
       "    }\n",
       "\n",
       "    .dataframe tbody tr th {\n",
       "        vertical-align: top;\n",
       "    }\n",
       "\n",
       "    .dataframe thead th {\n",
       "        text-align: right;\n",
       "    }\n",
       "</style>\n",
       "<table border=\"1\" class=\"dataframe\">\n",
       "  <thead>\n",
       "    <tr style=\"text-align: right;\">\n",
       "      <th></th>\n",
       "      <th>title</th>\n",
       "      <th>budget</th>\n",
       "    </tr>\n",
       "  </thead>\n",
       "  <tbody>\n",
       "    <tr>\n",
       "      <th>0</th>\n",
       "      <td>Pirates of the Caribbean: On Stranger Tides</td>\n",
       "      <td>380000000</td>\n",
       "    </tr>\n",
       "    <tr>\n",
       "      <th>1</th>\n",
       "      <td>Pirates of the Caribbean: At World's End</td>\n",
       "      <td>300000000</td>\n",
       "    </tr>\n",
       "    <tr>\n",
       "      <th>2</th>\n",
       "      <td>Avengers: Age of Ultron</td>\n",
       "      <td>280000000</td>\n",
       "    </tr>\n",
       "    <tr>\n",
       "      <th>3</th>\n",
       "      <td>Superman Returns</td>\n",
       "      <td>270000000</td>\n",
       "    </tr>\n",
       "    <tr>\n",
       "      <th>4</th>\n",
       "      <td>Tangled</td>\n",
       "      <td>260000000</td>\n",
       "    </tr>\n",
       "  </tbody>\n",
       "</table>\n",
       "</div>"
      ],
      "text/plain": [
       "                                         title     budget\n",
       "0  Pirates of the Caribbean: On Stranger Tides  380000000\n",
       "1     Pirates of the Caribbean: At World's End  300000000\n",
       "2                      Avengers: Age of Ultron  280000000\n",
       "3                             Superman Returns  270000000\n",
       "4                                      Tangled  260000000"
      ]
     },
     "execution_count": 10,
     "metadata": {},
     "output_type": "execute_result"
    }
   ],
   "source": [
    "df_most_expensive_movies.head()"
   ]
  },
  {
   "cell_type": "code",
   "execution_count": 11,
   "metadata": {},
   "outputs": [
    {
     "data": {
      "text/html": [
       "<div>\n",
       "<style scoped>\n",
       "    .dataframe tbody tr th:only-of-type {\n",
       "        vertical-align: middle;\n",
       "    }\n",
       "\n",
       "    .dataframe tbody tr th {\n",
       "        vertical-align: top;\n",
       "    }\n",
       "\n",
       "    .dataframe thead th {\n",
       "        text-align: right;\n",
       "    }\n",
       "</style>\n",
       "<table border=\"1\" class=\"dataframe\">\n",
       "  <thead>\n",
       "    <tr style=\"text-align: right;\">\n",
       "      <th></th>\n",
       "      <th>movie_title</th>\n",
       "      <th>language_name</th>\n",
       "      <th>language_role</th>\n",
       "    </tr>\n",
       "  </thead>\n",
       "  <tbody>\n",
       "    <tr>\n",
       "      <th>0</th>\n",
       "      <td>Four Rooms</td>\n",
       "      <td>English</td>\n",
       "      <td>Spoken</td>\n",
       "    </tr>\n",
       "    <tr>\n",
       "      <th>1</th>\n",
       "      <td>Star Wars</td>\n",
       "      <td>English</td>\n",
       "      <td>Spoken</td>\n",
       "    </tr>\n",
       "    <tr>\n",
       "      <th>2</th>\n",
       "      <td>Finding Nemo</td>\n",
       "      <td>English</td>\n",
       "      <td>Spoken</td>\n",
       "    </tr>\n",
       "    <tr>\n",
       "      <th>3</th>\n",
       "      <td>Forrest Gump</td>\n",
       "      <td>English</td>\n",
       "      <td>Spoken</td>\n",
       "    </tr>\n",
       "    <tr>\n",
       "      <th>4</th>\n",
       "      <td>American Beauty</td>\n",
       "      <td>English</td>\n",
       "      <td>Spoken</td>\n",
       "    </tr>\n",
       "  </tbody>\n",
       "</table>\n",
       "</div>"
      ],
      "text/plain": [
       "       movie_title language_name language_role\n",
       "0       Four Rooms       English        Spoken\n",
       "1        Star Wars       English        Spoken\n",
       "2     Finding Nemo       English        Spoken\n",
       "3     Forrest Gump       English        Spoken\n",
       "4  American Beauty       English        Spoken"
      ]
     },
     "execution_count": 11,
     "metadata": {},
     "output_type": "execute_result"
    }
   ],
   "source": [
    "df_available_languages_by_movie.head()"
   ]
  },
  {
   "cell_type": "markdown",
   "metadata": {},
   "source": [
    "# Tratamento de dados\n",
    "# Lidando com possiveis valores nulos"
   ]
  },
  {
   "cell_type": "code",
   "execution_count": 12,
   "metadata": {},
   "outputs": [
    {
     "name": "stdout",
     "output_type": "stream",
     "text": [
      "                   title  vote_average  popularity release_date\n",
      "0         Little Big Top          10.0    0.092100   2006-01-01\n",
      "1  Dancer, Texas Pop. 81          10.0    0.376662   1998-05-01\n",
      "2       Stiff Upper Lips          10.0    0.356495   1998-06-12\n",
      "3  Me You and Five Bucks          10.0    0.094105   2015-07-07\n",
      "4              Sardaarji           9.5    0.296981   2015-06-26\n"
     ]
    },
    {
     "data": {
      "text/html": [
       "<div>\n",
       "<style scoped>\n",
       "    .dataframe tbody tr th:only-of-type {\n",
       "        vertical-align: middle;\n",
       "    }\n",
       "\n",
       "    .dataframe tbody tr th {\n",
       "        vertical-align: top;\n",
       "    }\n",
       "\n",
       "    .dataframe thead th {\n",
       "        text-align: right;\n",
       "    }\n",
       "</style>\n",
       "<table border=\"1\" class=\"dataframe\">\n",
       "  <thead>\n",
       "    <tr style=\"text-align: right;\">\n",
       "      <th></th>\n",
       "      <th>genre_name</th>\n",
       "      <th>title</th>\n",
       "      <th>popularity</th>\n",
       "      <th>vote_average</th>\n",
       "    </tr>\n",
       "  </thead>\n",
       "  <tbody>\n",
       "    <tr>\n",
       "      <th>0</th>\n",
       "      <td>Action</td>\n",
       "      <td>Deadpool</td>\n",
       "      <td>514.569956</td>\n",
       "      <td>7.4</td>\n",
       "    </tr>\n",
       "    <tr>\n",
       "      <th>1</th>\n",
       "      <td>Action</td>\n",
       "      <td>Guardians of the Galaxy</td>\n",
       "      <td>481.098624</td>\n",
       "      <td>7.9</td>\n",
       "    </tr>\n",
       "    <tr>\n",
       "      <th>2</th>\n",
       "      <td>Action</td>\n",
       "      <td>Mad Max: Fury Road</td>\n",
       "      <td>434.278564</td>\n",
       "      <td>7.2</td>\n",
       "    </tr>\n",
       "    <tr>\n",
       "      <th>3</th>\n",
       "      <td>Action</td>\n",
       "      <td>Jurassic World</td>\n",
       "      <td>418.708552</td>\n",
       "      <td>6.5</td>\n",
       "    </tr>\n",
       "    <tr>\n",
       "      <th>4</th>\n",
       "      <td>Action</td>\n",
       "      <td>Pirates of the Caribbean: The Curse of the Bla...</td>\n",
       "      <td>271.972889</td>\n",
       "      <td>7.5</td>\n",
       "    </tr>\n",
       "  </tbody>\n",
       "</table>\n",
       "</div>"
      ],
      "text/plain": [
       "  genre_name                                              title  popularity  \\\n",
       "0     Action                                           Deadpool  514.569956   \n",
       "1     Action                            Guardians of the Galaxy  481.098624   \n",
       "2     Action                                 Mad Max: Fury Road  434.278564   \n",
       "3     Action                                     Jurassic World  418.708552   \n",
       "4     Action  Pirates of the Caribbean: The Curse of the Bla...  271.972889   \n",
       "\n",
       "   vote_average  \n",
       "0           7.4  \n",
       "1           7.9  \n",
       "2           7.2  \n",
       "3           6.5  \n",
       "4           7.5  "
      ]
     },
     "execution_count": 12,
     "metadata": {},
     "output_type": "execute_result"
    }
   ],
   "source": [
    "\n",
    "df_top_rated['vote_average'] = df_top_rated['vote_average'].fillna(df_top_rated['vote_average'].mean())\n",
    "df_genre_popularity = df_genre_popularity.dropna(subset=['title'])\n",
    "\n",
    "print(df_top_rated.head())\n",
    "df_genre_popularity.head()"
   ]
  },
  {
   "cell_type": "markdown",
   "metadata": {},
   "source": [
    "# Converter tipos de dados"
   ]
  },
  {
   "cell_type": "code",
   "execution_count": 13,
   "metadata": {},
   "outputs": [],
   "source": [
    "\n",
    "df_top_rated['release_date'] = pd.to_datetime(df_top_rated['release_date'], errors='coerce')\n",
    "df_top_rated['vote_average'] = pd.to_numeric(df_top_rated['vote_average'], errors='coerce')\n",
    "df_top_rated['popularity'] = pd.to_numeric(df_top_rated['popularity'], errors='coerce')\n",
    "df_country_rating['avg_rating'] = pd.to_numeric(df_country_rating['avg_rating'])\n",
    " "
   ]
  },
  {
   "cell_type": "markdown",
   "metadata": {},
   "source": [
    "### Moeda"
   ]
  },
  {
   "cell_type": "code",
   "execution_count": 14,
   "metadata": {},
   "outputs": [
    {
     "data": {
      "text/plain": [
       "0       R$ 380.000.000,00\n",
       "1       R$ 300.000.000,00\n",
       "2       R$ 280.000.000,00\n",
       "3       R$ 270.000.000,00\n",
       "4       R$ 260.000.000,00\n",
       "              ...        \n",
       "4798              R$ 0,00\n",
       "4799              R$ 0,00\n",
       "4800              R$ 0,00\n",
       "4801              R$ 0,00\n",
       "4802              R$ 0,00\n",
       "Name: budget, Length: 4803, dtype: object"
      ]
     },
     "execution_count": 14,
     "metadata": {},
     "output_type": "execute_result"
    }
   ],
   "source": [
    "df_most_expensive_movies['budget'] = df_most_expensive_movies['budget'].apply(lambda x: f'R$ {x:,.2f}'.replace(',', 'X').replace('.', ',').replace('X', '.'))\n",
    "\n",
    "df_most_expensive_movies['budget']"
   ]
  },
  {
   "cell_type": "markdown",
   "metadata": {},
   "source": [
    "# Criar colunas derivadas\n",
    "\n",
    "Cria uma nova coluna chamada release_year pegando só o ano da data de lançamento (release_date).\n",
    "Se a data era 2021-07-16, agora você tem só 2021\n",
    "\n",
    "\n",
    "Criando faixas (bins) de nota:\n",
    "\n",
    "de 0 até 5 → 'Baixo'\n",
    "\n",
    "de 5 até 7 → 'Médio'\n",
    "\n",
    "de 7 até 10 → 'Alto'\n",
    "\n",
    "Cria uma nova coluna chamada rating_category com base na nota (vote_average), usando as faixas acima.\n",
    "\n",
    "Cada filme agora vai ter uma categoria de avaliação: 'Baixo', 'Médio' ou 'Alto'.\n"
   ]
  },
  {
   "cell_type": "code",
   "execution_count": 15,
   "metadata": {},
   "outputs": [
    {
     "data": {
      "text/html": [
       "<div>\n",
       "<style scoped>\n",
       "    .dataframe tbody tr th:only-of-type {\n",
       "        vertical-align: middle;\n",
       "    }\n",
       "\n",
       "    .dataframe tbody tr th {\n",
       "        vertical-align: top;\n",
       "    }\n",
       "\n",
       "    .dataframe thead th {\n",
       "        text-align: right;\n",
       "    }\n",
       "</style>\n",
       "<table border=\"1\" class=\"dataframe\">\n",
       "  <thead>\n",
       "    <tr style=\"text-align: right;\">\n",
       "      <th></th>\n",
       "      <th>title</th>\n",
       "      <th>vote_average</th>\n",
       "      <th>popularity</th>\n",
       "      <th>release_date</th>\n",
       "      <th>release_year</th>\n",
       "      <th>rating_category</th>\n",
       "    </tr>\n",
       "  </thead>\n",
       "  <tbody>\n",
       "    <tr>\n",
       "      <th>0</th>\n",
       "      <td>Little Big Top</td>\n",
       "      <td>10.0</td>\n",
       "      <td>0.092100</td>\n",
       "      <td>2006-01-01</td>\n",
       "      <td>2006.0</td>\n",
       "      <td>Alto</td>\n",
       "    </tr>\n",
       "    <tr>\n",
       "      <th>1</th>\n",
       "      <td>Dancer, Texas Pop. 81</td>\n",
       "      <td>10.0</td>\n",
       "      <td>0.376662</td>\n",
       "      <td>1998-05-01</td>\n",
       "      <td>1998.0</td>\n",
       "      <td>Alto</td>\n",
       "    </tr>\n",
       "    <tr>\n",
       "      <th>2</th>\n",
       "      <td>Stiff Upper Lips</td>\n",
       "      <td>10.0</td>\n",
       "      <td>0.356495</td>\n",
       "      <td>1998-06-12</td>\n",
       "      <td>1998.0</td>\n",
       "      <td>Alto</td>\n",
       "    </tr>\n",
       "    <tr>\n",
       "      <th>3</th>\n",
       "      <td>Me You and Five Bucks</td>\n",
       "      <td>10.0</td>\n",
       "      <td>0.094105</td>\n",
       "      <td>2015-07-07</td>\n",
       "      <td>2015.0</td>\n",
       "      <td>Alto</td>\n",
       "    </tr>\n",
       "    <tr>\n",
       "      <th>4</th>\n",
       "      <td>Sardaarji</td>\n",
       "      <td>9.5</td>\n",
       "      <td>0.296981</td>\n",
       "      <td>2015-06-26</td>\n",
       "      <td>2015.0</td>\n",
       "      <td>Alto</td>\n",
       "    </tr>\n",
       "  </tbody>\n",
       "</table>\n",
       "</div>"
      ],
      "text/plain": [
       "                   title  vote_average  popularity release_date  release_year  \\\n",
       "0         Little Big Top          10.0    0.092100   2006-01-01        2006.0   \n",
       "1  Dancer, Texas Pop. 81          10.0    0.376662   1998-05-01        1998.0   \n",
       "2       Stiff Upper Lips          10.0    0.356495   1998-06-12        1998.0   \n",
       "3  Me You and Five Bucks          10.0    0.094105   2015-07-07        2015.0   \n",
       "4              Sardaarji           9.5    0.296981   2015-06-26        2015.0   \n",
       "\n",
       "  rating_category  \n",
       "0            Alto  \n",
       "1            Alto  \n",
       "2            Alto  \n",
       "3            Alto  \n",
       "4            Alto  "
      ]
     },
     "execution_count": 15,
     "metadata": {},
     "output_type": "execute_result"
    }
   ],
   "source": [
    "df_top_rated['release_year'] = df_top_rated['release_date'].dt.year\n",
    "bins = [0, 5, 7, 10]\n",
    "labels = ['Baixo', 'Médio', 'Alto']\n",
    "df_top_rated['rating_category'] = pd.cut(df_top_rated['vote_average'], bins=bins, labels=labels, include_lowest=True)\n",
    "\n",
    "df_top_rated.head()"
   ]
  },
  {
   "cell_type": "markdown",
   "metadata": {},
   "source": [
    "# Arredondar valores"
   ]
  },
  {
   "cell_type": "code",
   "execution_count": 16,
   "metadata": {},
   "outputs": [
    {
     "data": {
      "text/html": [
       "<div>\n",
       "<style scoped>\n",
       "    .dataframe tbody tr th:only-of-type {\n",
       "        vertical-align: middle;\n",
       "    }\n",
       "\n",
       "    .dataframe tbody tr th {\n",
       "        vertical-align: top;\n",
       "    }\n",
       "\n",
       "    .dataframe thead th {\n",
       "        text-align: right;\n",
       "    }\n",
       "</style>\n",
       "<table border=\"1\" class=\"dataframe\">\n",
       "  <thead>\n",
       "    <tr style=\"text-align: right;\">\n",
       "      <th></th>\n",
       "      <th>country_name</th>\n",
       "      <th>avg_rating</th>\n",
       "      <th>movie_count</th>\n",
       "    </tr>\n",
       "  </thead>\n",
       "  <tbody>\n",
       "    <tr>\n",
       "      <th>0</th>\n",
       "      <td>Austria</td>\n",
       "      <td>7.08</td>\n",
       "      <td>6</td>\n",
       "    </tr>\n",
       "    <tr>\n",
       "      <th>1</th>\n",
       "      <td>Argentina</td>\n",
       "      <td>6.99</td>\n",
       "      <td>9</td>\n",
       "    </tr>\n",
       "    <tr>\n",
       "      <th>2</th>\n",
       "      <td>Sweden</td>\n",
       "      <td>6.91</td>\n",
       "      <td>19</td>\n",
       "    </tr>\n",
       "    <tr>\n",
       "      <th>3</th>\n",
       "      <td>New Zealand</td>\n",
       "      <td>6.73</td>\n",
       "      <td>28</td>\n",
       "    </tr>\n",
       "    <tr>\n",
       "      <th>4</th>\n",
       "      <td>Iceland</td>\n",
       "      <td>6.72</td>\n",
       "      <td>6</td>\n",
       "    </tr>\n",
       "  </tbody>\n",
       "</table>\n",
       "</div>"
      ],
      "text/plain": [
       "  country_name  avg_rating  movie_count\n",
       "0      Austria        7.08            6\n",
       "1    Argentina        6.99            9\n",
       "2       Sweden        6.91           19\n",
       "3  New Zealand        6.73           28\n",
       "4      Iceland        6.72            6"
      ]
     },
     "execution_count": 16,
     "metadata": {},
     "output_type": "execute_result"
    }
   ],
   "source": [
    "df_genre_popularity['vote_average'] = df_genre_popularity['vote_average'].round(2)\n",
    "df_genre_popularity['popularity'] = df_genre_popularity['popularity'].round(2)\n",
    "df_genre_popularity.head()\n",
    "\n",
    "df_top_rated['popularity'] = df_top_rated['popularity'].round(2)\n",
    "\n",
    "df_country_rating['avg_rating'] = df_country_rating['avg_rating'].round(2)\n",
    "df_country_rating.head()\n"
   ]
  },
  {
   "cell_type": "markdown",
   "metadata": {},
   "source": [
    "# Agrupar e sumarizar"
   ]
  },
  {
   "cell_type": "code",
   "execution_count": 17,
   "metadata": {},
   "outputs": [
    {
     "data": {
      "text/html": [
       "<div>\n",
       "<style scoped>\n",
       "    .dataframe tbody tr th:only-of-type {\n",
       "        vertical-align: middle;\n",
       "    }\n",
       "\n",
       "    .dataframe tbody tr th {\n",
       "        vertical-align: top;\n",
       "    }\n",
       "\n",
       "    .dataframe thead th {\n",
       "        text-align: right;\n",
       "    }\n",
       "</style>\n",
       "<table border=\"1\" class=\"dataframe\">\n",
       "  <thead>\n",
       "    <tr style=\"text-align: right;\">\n",
       "      <th></th>\n",
       "      <th>genre_name</th>\n",
       "      <th>vote_average</th>\n",
       "      <th>popularity</th>\n",
       "      <th>movie_count</th>\n",
       "    </tr>\n",
       "  </thead>\n",
       "  <tbody>\n",
       "    <tr>\n",
       "      <th>0</th>\n",
       "      <td>Action</td>\n",
       "      <td>5.99</td>\n",
       "      <td>30.94</td>\n",
       "      <td>1154</td>\n",
       "    </tr>\n",
       "    <tr>\n",
       "      <th>1</th>\n",
       "      <td>Adventure</td>\n",
       "      <td>6.16</td>\n",
       "      <td>39.27</td>\n",
       "      <td>790</td>\n",
       "    </tr>\n",
       "    <tr>\n",
       "      <th>2</th>\n",
       "      <td>Animation</td>\n",
       "      <td>6.34</td>\n",
       "      <td>38.81</td>\n",
       "      <td>234</td>\n",
       "    </tr>\n",
       "    <tr>\n",
       "      <th>3</th>\n",
       "      <td>Comedy</td>\n",
       "      <td>5.95</td>\n",
       "      <td>18.22</td>\n",
       "      <td>1722</td>\n",
       "    </tr>\n",
       "    <tr>\n",
       "      <th>4</th>\n",
       "      <td>Crime</td>\n",
       "      <td>6.27</td>\n",
       "      <td>22.85</td>\n",
       "      <td>696</td>\n",
       "    </tr>\n",
       "  </tbody>\n",
       "</table>\n",
       "</div>"
      ],
      "text/plain": [
       "  genre_name  vote_average  popularity  movie_count\n",
       "0     Action          5.99       30.94         1154\n",
       "1  Adventure          6.16       39.27          790\n",
       "2  Animation          6.34       38.81          234\n",
       "3     Comedy          5.95       18.22         1722\n",
       "4      Crime          6.27       22.85          696"
      ]
     },
     "execution_count": 17,
     "metadata": {},
     "output_type": "execute_result"
    }
   ],
   "source": [
    "df_genre_summary = df_genre_popularity.groupby('genre_name').agg({\n",
    "    'vote_average': 'mean',\n",
    "    'popularity': 'mean',\n",
    "    'title': 'count'\n",
    "}).reset_index().rename(columns={'title': 'movie_count'})\n",
    "df_genre_summary['vote_average'] = df_genre_summary['vote_average'].round(2)\n",
    "df_genre_summary['popularity'] = df_genre_summary['popularity'].round(2)\n",
    "\n",
    "df_genre_summary.head()\n"
   ]
  },
  {
   "cell_type": "markdown",
   "metadata": {},
   "source": [
    "## Função para criar uma tabela no Excel\n",
    "\n",
    "Essa função cria realmente uma tabela no excel, não apenas coloca os dados numa aba de folha do excel. Isso irá facilitar o consumo dos dados no PowerBI\n"
   ]
  },
  {
   "cell_type": "code",
   "execution_count": 18,
   "metadata": {},
   "outputs": [],
   "source": [
    "def write_table(writer, df, sheet_name, table_name):\n",
    "    df.to_excel(writer, sheet_name=sheet_name, startrow=1, header=False, index=False)\n",
    "    \n",
    "    worksheet = writer.sheets[sheet_name]\n",
    "    \n",
    "    # Aqui ele cria um cabeçalho manual\n",
    "    for col_num, value in enumerate(df.columns.values):\n",
    "        worksheet.write(0, col_num, value)\n",
    "    \n",
    "    # Define o tamanho da tabela aqui:\n",
    "    (max_row, max_col) = df.shape\n",
    "    column_settings = [{'header': column} for column in df.columns]\n",
    "    \n",
    "    worksheet.add_table(0, 0, max_row, max_col - 1, {\n",
    "        'columns': column_settings,\n",
    "        'name': table_name,\n",
    "        'style': 'Table Style Medium 9'\n",
    "    })"
   ]
  },
  {
   "cell_type": "markdown",
   "metadata": {},
   "source": [
    "# Exportar para um excel com varias páginas com cada DF"
   ]
  },
  {
   "cell_type": "code",
   "execution_count": 19,
   "metadata": {},
   "outputs": [],
   "source": [
    "with pd.ExcelWriter('movies_data_report.xlsx', engine='xlsxwriter') as writer:\n",
    "    write_table(writer, df_top_rated, 'Top Rated Movies', 'TopRatedMovies')\n",
    "    write_table(writer, df_genre_popularity, 'Genre Popularity', 'GenrePopularity')\n",
    "    write_table(writer, df_genre_summary, 'Genre Summary', 'GenreSummary')\n",
    "    write_table(writer, df_country_rating, 'Country Rating', 'CountryRating')\n",
    "    write_table(writer, df_movie_characters_with_actors, 'Characters & Actors', 'CharactersActors')\n",
    "    write_table(writer, df_movie_production_companies, 'Production Companies', 'ProductionCompanies')\n",
    "    write_table(writer, df_most_expensive_movies, 'Most Expensive Movies', 'MostExpensiveMovies')\n",
    "    write_table(writer, df_available_languages_by_movie, 'Languages by Movie', 'LanguagesByMovie')"
   ]
  }
 ],
 "metadata": {
  "kernelspec": {
   "display_name": "env",
   "language": "python",
   "name": "python3"
  },
  "language_info": {
   "codemirror_mode": {
    "name": "ipython",
    "version": 3
   },
   "file_extension": ".py",
   "mimetype": "text/x-python",
   "name": "python",
   "nbconvert_exporter": "python",
   "pygments_lexer": "ipython3",
   "version": "3.13.3"
  }
 },
 "nbformat": 4,
 "nbformat_minor": 2
}
